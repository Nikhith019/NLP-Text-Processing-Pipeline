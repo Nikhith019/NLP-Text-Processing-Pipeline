{
 "cells": [
  {
   "cell_type": "code",
   "execution_count": 11,
   "id": "192db279-d26f-4371-a4cb-cc89d3b37aef",
   "metadata": {},
   "outputs": [
    {
     "name": "stdout",
     "output_type": "stream",
     "text": [
      "Original Tokens: ['NLP', 'techniques', 'are', 'used', 'in', 'virtual', 'assistants', 'like', 'Alexa', 'and', 'Siri', '.']\n",
      "Tokens Without Stopwords: ['NLP', 'techniques', 'used', 'virtual', 'assistants', 'like', 'Alexa', 'Siri', '.']\n",
      "Stemmed Words: ['nlp', 'techniqu', 'use', 'virtual', 'assist', 'like', 'alexa', 'siri', '.']\n"
     ]
    },
    {
     "name": "stderr",
     "output_type": "stream",
     "text": [
      "[nltk_data] Downloading package punkt to\n",
      "[nltk_data]     /Users/nikhithrajukonduru/nltk_data...\n",
      "[nltk_data]   Package punkt is already up-to-date!\n",
      "[nltk_data] Downloading package stopwords to\n",
      "[nltk_data]     /Users/nikhithrajukonduru/nltk_data...\n",
      "[nltk_data]   Package stopwords is already up-to-date!\n"
     ]
    }
   ],
   "source": [
    "#Q1: NLP Preprocessing Pipeline \n",
    "\n",
    "import nltk\n",
    "from nltk.tokenize import word_tokenize\n",
    "from nltk.corpus import stopwords\n",
    "from nltk.stem import PorterStemmer\n",
    "\n",
    "# Download necessary NLTK resources\n",
    "nltk.download('punkt')\n",
    "nltk.download('stopwords')\n",
    "\n",
    "def preprocess_sentence(sentence):\n",
    "    # Tokenize the sentence\n",
    "    tokens = word_tokenize(sentence)\n",
    "    print(\"Original Tokens:\", tokens)\n",
    "\n",
    "    # Remove stopwords\n",
    "    stop_words = set(stopwords.words('english'))\n",
    "    filtered_tokens = [word for word in tokens if word.lower() not in stop_words]\n",
    "    print(\"Tokens Without Stopwords:\", filtered_tokens)\n",
    "\n",
    "    # Apply stemming\n",
    "    stemmer = PorterStemmer()\n",
    "    stemmed_tokens = [stemmer.stem(word) for word in filtered_tokens]\n",
    "    print(\"Stemmed Words:\", stemmed_tokens)\n",
    "\n",
    "# Example sentence\n",
    "sentence = \"NLP techniques are used in virtual assistants like Alexa and Siri.\"\n",
    "preprocess_sentence(sentence)"
   ]
  },
  {
   "cell_type": "code",
   "execution_count": null,
   "id": "4ff39eb5-c237-45b5-906e-4b1097ded5cd",
   "metadata": {},
   "outputs": [],
   "source": [
    "### \"\"1. Difference Between Stemming and Lemmatization\n",
    "\"\"Stemming is the process of reducing a word to its base or root form, usually by removing suffixes. It often produces non-dictionary words and is less accurate (e.g., \"running\" → \"runn\").\n",
    "Lemmatization reduces a word to its base or dictionary form (lemma), considering the word’s context and part of speech (e.g., \"running\" → \"run\"). It is more accurate but computationally heavier.\"\"\n",
    "\n",
    "### 2.Stop Word Removal – Usefulness and Drawbacks\n",
    "'''Useful: Removing stop words (common words like \"the\", \"is\", \"in\") helps reduce noise and computational load, making it beneficial for tasks like document classification or topic modeling.\n",
    "Harmful: In some tasks, stop words carry important meaning (e.g., \"not\" in sentiment analysis). Removing them can change the sentence’s meaning and negatively affect the model’s performance.'''\n",
    "\n"
   ]
  },
  {
   "cell_type": "code",
   "execution_count": null,
   "id": "0f792a12-e255-419a-bdc7-78e1a2d2f52e",
   "metadata": {},
   "outputs": [],
   "source": []
  },
  {
   "cell_type": "code",
   "execution_count": null,
   "id": "110fcbc4-5807-44bd-b81e-b536de6b9367",
   "metadata": {},
   "outputs": [],
   "source": []
  }
 ],
 "metadata": {
  "kernelspec": {
   "display_name": "Python 3 (ipykernel)",
   "language": "python",
   "name": "python3"
  },
  "language_info": {
   "codemirror_mode": {
    "name": "ipython",
    "version": 3
   },
   "file_extension": ".py",
   "mimetype": "text/x-python",
   "name": "python",
   "nbconvert_exporter": "python",
   "pygments_lexer": "ipython3",
   "version": "3.12.7"
  }
 },
 "nbformat": 4,
 "nbformat_minor": 5
}
